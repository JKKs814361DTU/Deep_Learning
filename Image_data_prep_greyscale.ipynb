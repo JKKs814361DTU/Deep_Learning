{
 "cells": [
  {
   "cell_type": "markdown",
   "source": [
    "# Preparing data as Images"
   ],
   "metadata": {
    "collapsed": false
   }
  },
  {
   "cell_type": "code",
   "execution_count": 12,
   "outputs": [],
   "source": [
    "import matplotlib.pyplot as plt\n",
    "import numpy as np\n",
    "from PIL import Image\n",
    "import torch\n",
    "import torch\n",
    "import os\n",
    "from pathlib import Path\n",
    "os.chdir(Path(os.path.abspath(\"/home/monty/Desktop/DL Project/DeepLearning_group_2/mros-data-main/mros_data\")))\n",
    "from mros_data.datamodule import SleepEventDataModule\n",
    "from mros_data.datamodule.transforms import STFTTransform\n",
    "from matplotlib import patches\n",
    "import json"
   ],
   "metadata": {
    "collapsed": false
   }
  },
  {
   "cell_type": "markdown",
   "source": [
    "Using this method to convert spectograms into Images"
   ],
   "metadata": {
    "collapsed": false
   }
  },
  {
   "cell_type": "code",
   "execution_count": 13,
   "metadata": {
    "collapsed": true
   },
   "outputs": [],
   "source": [
    "def spectogram_to_image(spectrogram):\n",
    "    tensor= torch.tensor(spectrogram)*255\n",
    "    tensor = np.array(tensor, dtype=np.uint8)\n",
    "    return Image.fromarray(tensor)"
   ]
  },
  {
   "cell_type": "markdown",
   "source": [
    "and using this method we make folder with eval and train set of images"
   ],
   "metadata": {
    "collapsed": false
   }
  },
  {
   "cell_type": "code",
   "execution_count": 14,
   "outputs": [],
   "source": [
    "def SaveImagesToFolder(train_ds,eval_ds):\n",
    "    len_train = len(train_ds)\n",
    "    len_eval = len(eval_ds)\n",
    "\n",
    "    img_path = \"/home/monty/Desktop/DL Project/DeepLearning_group_2/coco4\"\n",
    "\n",
    "    if os.path.isdir(img_path) == False:\n",
    "        os.mkdir(img_path)\n",
    "        os.mkdir(f\"{img_path}/train\")\n",
    "        os.mkdir(f\"{img_path}/eval\")\n",
    "        os.mkdir(f\"{img_path}/annotations\")\n",
    "\n",
    "    for x in range(len_train):\n",
    "        spectrogram = train_ds.get_2Dmatrix(x, channel_idx=0, window_size=int(4.0 * train_ds.fs),\n",
    "                                            step_size=int(0.125 * train_ds.fs), nfft=1024)\n",
    "        img = spectogram_to_image(spectrogram)\n",
    "\n",
    "        img_name = f\"train_{x}.png\"\n",
    "        image = img.save(f\"{img_path}/train/{img_name}\")\n",
    "\n",
    "    for x in range(len_eval):\n",
    "        spectrogram = eval_ds.get_2Dmatrix(x, channel_idx=0, window_size=int(4.0 * train_ds.fs),\n",
    "                                            step_size=int(0.125 * train_ds.fs), nfft=1024)\n",
    "        img = spectogram_to_image(spectrogram)\n",
    "\n",
    "        img_name = f\"eval_{x}.png\"\n",
    "        image = img.save(f\"{img_path}/eval/{img_name}\")"
   ],
   "metadata": {
    "collapsed": false
   }
  },
  {
   "cell_type": "markdown",
   "source": [
    "Preparing dataset"
   ],
   "metadata": {
    "collapsed": false
   }
  },
  {
   "cell_type": "code",
   "execution_count": 15,
   "outputs": [],
   "source": [
    "params = dict(\n",
    "    data_dir=\"/home/monty/Desktop/DL Project/DeepLearning_group_2/lm/\",\n",
    "    batch_size=16,\n",
    "    n_eval=2,\n",
    "    n_test=2,\n",
    "    num_workers=0,\n",
    "    seed=1337,\n",
    "    events={\"lm\": \"Leg movement\"},\n",
    "    window_duration=600,  # seconds\n",
    "    cache_data=True,\n",
    "    default_event_window_duration=[15],\n",
    "    event_buffer_duration=3,\n",
    "    factor_overlap=2,\n",
    "    fs=64,\n",
    "    matching_overlap=0.5,\n",
    "    n_jobs=-1,\n",
    "    n_records=10,\n",
    "    picks=[\"legl\", \"legr\"],\n",
    "    # transform=MultitaperTransform(128, 0.5, 35.0, tw=8.0, normalize=True),\n",
    "    transform=STFTTransform(\n",
    "        fs=64, segment_size=int(4.0 * 64), step_size=int(0.125 * 64), nfft=1024, normalize=True\n",
    "    ),\n",
    "    scaling=\"robust\",\n",
    ")\n",
    "dm = SleepEventDataModule(**params)"
   ],
   "metadata": {
    "collapsed": false
   }
  },
  {
   "cell_type": "code",
   "execution_count": 16,
   "outputs": [
    {
     "name": "stdout",
     "output_type": "stream",
     "text": [
      "Using cache for data prep: /home/monty/Desktop/DL Project/DeepLearning_group_2/mros-data-main/mros_data/data/.cache\n"
     ]
    },
    {
     "name": "stderr",
     "output_type": "stream",
     "text": [
      "100%|██████████| 6/6 [00:00<00:00, 240.90it/s]\n"
     ]
    },
    {
     "name": "stdout",
     "output_type": "stream",
     "text": [
      "Using cache for data prep: /home/monty/Desktop/DL Project/DeepLearning_group_2/mros-data-main/mros_data/data/.cache\n"
     ]
    },
    {
     "name": "stderr",
     "output_type": "stream",
     "text": [
      "100%|██████████| 2/2 [00:00<00:00, 2259.86it/s]\n"
     ]
    }
   ],
   "source": [
    "dm.setup('fit')\n",
    "train_ds = dm.train\n",
    "eval_ds = dm.eval"
   ],
   "metadata": {
    "collapsed": false
   }
  },
  {
   "cell_type": "markdown",
   "source": [
    "Converting a 2D matrix to image"
   ],
   "metadata": {
    "collapsed": false
   }
  },
  {
   "cell_type": "code",
   "execution_count": 17,
   "outputs": [],
   "source": [
    "data_loader_train = dm.train_dataloader()\n",
    "data_loader_val = dm.val_dataloader()"
   ],
   "metadata": {
    "collapsed": false
   }
  },
  {
   "cell_type": "code",
   "execution_count": 18,
   "outputs": [
    {
     "ename": "AttributeError",
     "evalue": "'SleepEventDataset' object has no attribute 'get_2Dmatrix'",
     "output_type": "error",
     "traceback": [
      "\u001B[0;31m---------------------------------------------------------------------------\u001B[0m",
      "\u001B[0;31mAttributeError\u001B[0m                            Traceback (most recent call last)",
      "Cell \u001B[0;32mIn [18], line 1\u001B[0m\n\u001B[0;32m----> 1\u001B[0m spectrogram \u001B[38;5;241m=\u001B[39m \u001B[43mtrain_ds\u001B[49m\u001B[38;5;241;43m.\u001B[39;49m\u001B[43mget_2Dmatrix\u001B[49m(\u001B[38;5;241m0\u001B[39m, channel_idx\u001B[38;5;241m=\u001B[39m\u001B[38;5;241m0\u001B[39m, window_size\u001B[38;5;241m=\u001B[39m\u001B[38;5;28mint\u001B[39m(\u001B[38;5;241m4.0\u001B[39m \u001B[38;5;241m*\u001B[39m train_ds\u001B[38;5;241m.\u001B[39mfs), step_size\u001B[38;5;241m=\u001B[39m\u001B[38;5;28mint\u001B[39m(\u001B[38;5;241m0.125\u001B[39m \u001B[38;5;241m*\u001B[39m train_ds\u001B[38;5;241m.\u001B[39mfs), nfft\u001B[38;5;241m=\u001B[39m\u001B[38;5;241m1024\u001B[39m)\n\u001B[1;32m      3\u001B[0m tensor\u001B[38;5;241m=\u001B[39m torch\u001B[38;5;241m.\u001B[39mtensor(spectrogram)\u001B[38;5;241m*\u001B[39m\u001B[38;5;241m255\u001B[39m\n\u001B[1;32m      4\u001B[0m tensor\n",
      "\u001B[0;31mAttributeError\u001B[0m: 'SleepEventDataset' object has no attribute 'get_2Dmatrix'"
     ]
    }
   ],
   "source": [
    "spectrogram = train_ds.get_2Dmatrix(0, channel_idx=0, window_size=int(4.0 * train_ds.fs), step_size=int(0.125 * train_ds.fs), nfft=1024)\n",
    "IMG = spectogram_to_image(spectrogram)\n",
    "print(IMG)\n",
    "imgplot = plt.imshow(IMG)"
   ],
   "metadata": {
    "collapsed": false
   }
  },
  {
   "cell_type": "markdown",
   "source": [
    "Now creating the image folders and files"
   ],
   "metadata": {
    "collapsed": false
   }
  },
  {
   "cell_type": "code",
   "execution_count": 11,
   "outputs": [
    {
     "ename": "AttributeError",
     "evalue": "'SleepEventDataset' object has no attribute 'get_2Dmatrix'",
     "output_type": "error",
     "traceback": [
      "\u001B[0;31m---------------------------------------------------------------------------\u001B[0m",
      "\u001B[0;31mAttributeError\u001B[0m                            Traceback (most recent call last)",
      "Cell \u001B[0;32mIn [11], line 1\u001B[0m\n\u001B[0;32m----> 1\u001B[0m \u001B[43mSaveImagesToFolder\u001B[49m\u001B[43m(\u001B[49m\u001B[43mtrain_ds\u001B[49m\u001B[43m,\u001B[49m\u001B[43meval_ds\u001B[49m\u001B[43m)\u001B[49m\n",
      "Cell \u001B[0;32mIn [3], line 14\u001B[0m, in \u001B[0;36mSaveImagesToFolder\u001B[0;34m(train_ds, eval_ds)\u001B[0m\n\u001B[1;32m     11\u001B[0m     os\u001B[38;5;241m.\u001B[39mmkdir(\u001B[38;5;124mf\u001B[39m\u001B[38;5;124m\"\u001B[39m\u001B[38;5;132;01m{\u001B[39;00mimg_path\u001B[38;5;132;01m}\u001B[39;00m\u001B[38;5;124m/annotations\u001B[39m\u001B[38;5;124m\"\u001B[39m)\n\u001B[1;32m     13\u001B[0m \u001B[38;5;28;01mfor\u001B[39;00m x \u001B[38;5;129;01min\u001B[39;00m \u001B[38;5;28mrange\u001B[39m(len_train):\n\u001B[0;32m---> 14\u001B[0m     spectrogram \u001B[38;5;241m=\u001B[39m \u001B[43mtrain_ds\u001B[49m\u001B[38;5;241;43m.\u001B[39;49m\u001B[43mget_2Dmatrix\u001B[49m(x, channel_idx\u001B[38;5;241m=\u001B[39m\u001B[38;5;241m0\u001B[39m, window_size\u001B[38;5;241m=\u001B[39m\u001B[38;5;28mint\u001B[39m(\u001B[38;5;241m4.0\u001B[39m \u001B[38;5;241m*\u001B[39m train_ds\u001B[38;5;241m.\u001B[39mfs),\n\u001B[1;32m     15\u001B[0m                                         step_size\u001B[38;5;241m=\u001B[39m\u001B[38;5;28mint\u001B[39m(\u001B[38;5;241m0.125\u001B[39m \u001B[38;5;241m*\u001B[39m train_ds\u001B[38;5;241m.\u001B[39mfs), nfft\u001B[38;5;241m=\u001B[39m\u001B[38;5;241m1024\u001B[39m)\n\u001B[1;32m     16\u001B[0m     img \u001B[38;5;241m=\u001B[39m spectogram_to_image(spectrogram)\n\u001B[1;32m     18\u001B[0m     img_name \u001B[38;5;241m=\u001B[39m \u001B[38;5;124mf\u001B[39m\u001B[38;5;124m\"\u001B[39m\u001B[38;5;124mtrain_\u001B[39m\u001B[38;5;132;01m{\u001B[39;00mx\u001B[38;5;132;01m}\u001B[39;00m\u001B[38;5;124m.png\u001B[39m\u001B[38;5;124m\"\u001B[39m\n",
      "\u001B[0;31mAttributeError\u001B[0m: 'SleepEventDataset' object has no attribute 'get_2Dmatrix'"
     ]
    }
   ],
   "source": [
    "SaveImagesToFolder(train_ds,eval_ds)"
   ],
   "metadata": {
    "collapsed": false
   }
  },
  {
   "cell_type": "markdown",
   "source": [
    "Exploring the data"
   ],
   "metadata": {
    "collapsed": false
   }
  },
  {
   "cell_type": "code",
   "execution_count": 10,
   "outputs": [
    {
     "name": "stdout",
     "output_type": "stream",
     "text": [
      "<class 'dict'>\n",
      "dict_keys(['signal', 'events', 'stages', 'record', 'localizations_target', 'classifications_target'])\n"
     ]
    }
   ],
   "source": [
    "batch = train_ds[0]\n",
    "print(type(batch))\n",
    "print(batch.keys())"
   ],
   "metadata": {
    "collapsed": false
   }
  },
  {
   "cell_type": "code",
   "execution_count": 11,
   "outputs": [
    {
     "name": "stdout",
     "output_type": "stream",
     "text": [
      "<class 'str'>\n",
      "mros-visit1-aa0009\n"
     ]
    }
   ],
   "source": [
    "record = batch['record']\n",
    "print(type(record))\n",
    "print(record)"
   ],
   "metadata": {
    "collapsed": false
   }
  },
  {
   "cell_type": "code",
   "execution_count": 12,
   "outputs": [
    {
     "name": "stdout",
     "output_type": "stream",
     "text": [
      "<class 'numpy.ndarray'>\n"
     ]
    }
   ],
   "source": [
    "signal = batch['signal']\n",
    "print(type(signal))"
   ],
   "metadata": {
    "collapsed": false
   }
  },
  {
   "cell_type": "code",
   "execution_count": 13,
   "outputs": [
    {
     "data": {
      "text/plain": "array([[ 249.677  ,  268.93103],\n       [ 284.80933,  318.4413 ],\n       [ 508.10583,  513.732  ],\n       [ 692.14417,  705.77203],\n       [ 758.533  ,  775.2865 ],\n       [ 770.53546,  781.78784],\n       [1022.588  , 1054.5947 ],\n       [1080.9751 , 1106.6055 ],\n       [2254.0945 , 2262.8464 ],\n       [2917.3577 , 2950.1145 ]], dtype=float32)"
     },
     "execution_count": 13,
     "metadata": {},
     "output_type": "execute_result"
    }
   ],
   "source": [
    "events = batch['events']\n",
    "_events = np.delete(events, 2, 1)*4801\n",
    "_events\n"
   ],
   "metadata": {
    "collapsed": false
   }
  },
  {
   "cell_type": "code",
   "execution_count": 14,
   "outputs": [
    {
     "name": "stdout",
     "output_type": "stream",
     "text": [
      "Record: mros-visit1-aa0009 | No. channels: 2 | No. timepoints: 513 | No. events: 10\n"
     ]
    }
   ],
   "source": [
    "print(f'Record: {record} | No. channels: {signal.shape[0]} | No. timepoints: {signal.shape[1]} | No. events: {len(events)}')"
   ],
   "metadata": {
    "collapsed": false
   }
  },
  {
   "cell_type": "code",
   "execution_count": 15,
   "outputs": [],
   "source": [
    "def PlotImageWithBoxes(image,events):\n",
    "    _events = np.delete(events, 2, 1)*image.width\n",
    "    fig, ax = plt.subplots()\n",
    "    for i in range(len(_events)):\n",
    "        x = _events[i,1]\n",
    "        y = 0\n",
    "        width = _events[i,1] - _events[i,0]\n",
    "        height = IMG.height\n",
    "        bbox = (x, y, width, height)\n",
    "        bb = patches.Rectangle((bbox[0],bbox[1]), bbox[2],bbox[3], linewidth=1, edgecolor=\"green\", facecolor=\"none\")\n",
    "        ax.add_patch(bb)\n",
    "\n",
    "    ax.imshow(image)\n",
    "    plt.show()"
   ],
   "metadata": {
    "collapsed": false
   }
  },
  {
   "cell_type": "code",
   "execution_count": 16,
   "outputs": [
    {
     "data": {
      "text/plain": "<Figure size 640x480 with 1 Axes>",
      "image/png": "[encoded data removed]"
     },
     "metadata": {},
     "output_type": "display_data"
    }
   ],
   "source": [
    "PlotImageWithBoxes(IMG,events)"
   ],
   "metadata": {
    "collapsed": false
   }
  },
  {
   "cell_type": "markdown",
   "source": [
    "Now let us create the annotation file"
   ],
   "metadata": {
    "collapsed": false
   }
  },
  {
   "cell_type": "code",
   "execution_count": 42,
   "outputs": [],
   "source": [
    "def AddAnnotations(res_file,Start,End,Height,annot_count,image_id):\n",
    "    xmin = Start\n",
    "    ymin = 0\n",
    "    xmax = End\n",
    "    ymax = Height\n",
    "    w = End-Start\n",
    "    h = Height\n",
    "    area = w * h\n",
    "    poly = [[xmin, ymin],\n",
    "            [xmax, ymin],\n",
    "            [xmax, ymax],\n",
    "            [xmin, ymax]]\n",
    "\n",
    "    annot_elem = {\n",
    "        \"id\": annot_count,\n",
    "        \"bbox\": [\n",
    "            float(xmin),\n",
    "            float(ymin),\n",
    "            float(w),\n",
    "            float(h)\n",
    "        ],\n",
    "        \"segmentation\": list([poly]),\n",
    "        \"image_id\": image_id,\n",
    "        \"ignore\": 0,\n",
    "        \"category_id\": 0,\n",
    "        \"iscrowd\": 0,\n",
    "        \"area\": float(area)\n",
    "    }\n",
    "    res_file[\"annotations\"].append(annot_elem)"
   ],
   "metadata": {
    "collapsed": false
   }
  },
  {
   "cell_type": "code",
   "execution_count": 47,
   "outputs": [],
   "source": [
    "def AddImage(res_file,img,events,annot_count, image_id,isTrain):\n",
    "\n",
    "    if isTrain:\n",
    "        path = f\"/content/gdrive/MyDrive/coco4/train/train_{image_id}.png\"\n",
    "    else:\n",
    "        path = f\"/content/gdrive/MyDrive/coco4/eval/eval_{image_id}.png\"\n",
    "\n",
    "    img_w, img_h = img.size\n",
    "    img_elem = {\"file_name\": f\"{path}\",\n",
    "                \"height\": img_h,\n",
    "                \"width\": img_w,\n",
    "                \"id\": image_id}\n",
    "    for elm in range(len(events)):\n",
    "        AddAnnotations(res_file,float(events[elm,0]),float(events[elm,1]),img_h,annot_count,image_id)\n",
    "        annot_count += 1\n",
    "    res_file[\"images\"].append(img_elem)\n",
    "    return annot_count"
   ],
   "metadata": {
    "collapsed": false
   }
  },
  {
   "cell_type": "code",
   "execution_count": 48,
   "outputs": [],
   "source": [
    "def CreateAnnotationFile(train_ds,eval_ds):\n",
    "    len_train = len(train_ds)\n",
    "    len_eval = len(eval_ds)\n",
    "\n",
    "    json_path = \"/home/monty/Desktop/DL Project/DeepLearning_group_2/coco4/annotations\"\n",
    "\n",
    "    categories = [\n",
    "    {\n",
    "        \"supercategory\": \"none\",\n",
    "        \"name\": \"movement\",\n",
    "        \"id\": 0\n",
    "    }]\n",
    "\n",
    "    res_file = {\n",
    "        \"categories\": categories,\n",
    "        \"images\": [],\n",
    "        \"annotations\": []\n",
    "    }\n",
    "    annot_count = 0\n",
    "    image_id = 0\n",
    "    json_file = \"instances_train2017.json\"\n",
    "\n",
    "    for x in range(len_train):\n",
    "        spectrogram = train_ds.get_2Dmatrix(x, channel_idx=0, window_size=int(4.0 * train_ds.fs),\n",
    "                                            step_size=int(0.125 * train_ds.fs), nfft=1024)\n",
    "        img = spectogram_to_image(spectrogram)\n",
    "        events = train_ds[x]['events']\n",
    "        annot_count = AddImage(res_file,img,events,annot_count, image_id,True)\n",
    "        image_id += 1\n",
    "        #print(\"\\tProcessed {}/{} images.\".format(image_id,len_train))\n",
    "\n",
    "    with open(os.path.join(json_path,json_file), \"w\") as f:\n",
    "        json_str = json.dumps(res_file)\n",
    "        f.write(json_str)\n",
    "\n",
    "    print(\"Processed {} train images...\".format(image_id))\n",
    "\n",
    "    categories = [\n",
    "    {\n",
    "        \"supercategory\": \"none\",\n",
    "        \"name\": \"movement\",\n",
    "        \"id\": 0\n",
    "    }]\n",
    "\n",
    "    res_file = {\n",
    "        \"categories\": categories,\n",
    "        \"images\": [],\n",
    "        \"annotations\": []\n",
    "    }\n",
    "    annot_count = 0\n",
    "    image_id = 0\n",
    "    json_file = \"instances_val2017.json\"\n",
    "\n",
    "    for x in range(len_eval):\n",
    "        spectrogram = eval_ds.get_2Dmatrix(x, channel_idx=0, window_size=int(4.0 * train_ds.fs),\n",
    "                                            step_size=int(0.125 * train_ds.fs), nfft=1024)\n",
    "        img = spectogram_to_image(spectrogram)\n",
    "        events = train_ds[x]['events']\n",
    "        annot_count = AddImage(res_file,img,events,annot_count, image_id,False)\n",
    "        image_id += 1\n",
    "        #print(\"\\tProcessed {}/{} images.\".format(image_id,len_eval))\n",
    "\n",
    "    with open(os.path.join(json_path,json_file), \"w\") as f:\n",
    "        json_str = json.dumps(res_file)\n",
    "        f.write(json_str)\n",
    "    print(\"Processed {} eval images...\".format(image_id))\n",
    "\n",
    "    print(\"Done.\")"
   ],
   "metadata": {
    "collapsed": false
   }
  },
  {
   "cell_type": "code",
   "execution_count": 50,
   "outputs": [
    {
     "name": "stdout",
     "output_type": "stream",
     "text": [
      "Processed 700 train images...\n",
      "Processed 280 eval images...\n",
      "Done.\n"
     ]
    }
   ],
   "source": [
    "CreateAnnotationFile(train_ds,eval_ds)"
   ],
   "metadata": {
    "collapsed": false
   }
  },
  {
   "cell_type": "code",
   "execution_count": null,
   "outputs": [],
   "source": [],
   "metadata": {
    "collapsed": false
   }
  }
 ],
 "metadata": {
  "kernelspec": {
   "display_name": "Python 3",
   "language": "python",
   "name": "python3"
  },
  "language_info": {
   "codemirror_mode": {
    "name": "ipython",
    "version": 2
   },
   "file_extension": ".py",
   "mimetype": "text/x-python",
   "name": "python",
   "nbconvert_exporter": "python",
   "pygments_lexer": "ipython2",
   "version": "2.7.6"
  }
 },
 "nbformat": 4,
 "nbformat_minor": 0
}
